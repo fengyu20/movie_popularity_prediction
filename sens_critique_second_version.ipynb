{
 "cells": [
  {
   "cell_type": "markdown",
   "metadata": {},
   "source": []
  },
  {
   "cell_type": "code",
   "execution_count": null,
   "metadata": {},
   "outputs": [],
   "source": [
    "pip install unidecode scikit-learn BeautifulSoup4 pandas requests lxml selenium"
   ]
  },
  {
   "cell_type": "code",
   "execution_count": null,
   "metadata": {},
   "outputs": [],
   "source": [
    "from sklearn.preprocessing import StandardScaler\n",
    "from requests.auth import HTTPBasicAuth\n",
    "from sklearn.decomposition import PCA\n",
    "from sklearn.pipeline import Pipeline\n",
    "from sklearn.cluster import KMeans\n",
    "import matplotlib.pyplot as plt\n",
    "from bs4 import BeautifulSoup\n",
    "from io import StringIO\n",
    "import pandas as pd\n",
    "import numpy as np\n",
    "import unidecode\n",
    "import requests\n",
    "import locale\n",
    "import pickle\n",
    "import re \n",
    "import lxml\n",
    "from selenium import webdriver\n",
    "from selenium.webdriver.common.by import By\n",
    "from selenium.webdriver.support.ui import WebDriverWait\n",
    "from selenium.webdriver.support import expected_conditions as EC\n",
    "from bs4 import BeautifulSoup\n",
    "import time\n",
    "import regex as re"
   ]
  },
  {
   "cell_type": "code",
   "execution_count": null,
   "metadata": {},
   "outputs": [],
   "source": [
    "search_dict_main_page = {\n",
    "    'rating': {'name': 'div', 'attrs': {\"data-testid\": \"Rating\"}},\n",
    "    'director': {'name': 'a', 'attrs': {\"data-testid\": \"link\"}},\n",
    "    'duration': {'name': 'span', 'attrs': {\"data-testid\": \"duration\"}},\n",
    "    'genres': {'name': 'span', 'attrs': {\"data-testid\": \"genres\"}},\n",
    "    'ranking': {'name': 'span', 'attrs':{'data-testid': 'product-title-wrapper'}}\n",
    "}\n",
    "\n",
    "search_dict_film_page = {\n",
    "    'film_year': {'name': 'p', 'attrs': {\"class\": \"Text__SCTitle-sc-1aoldkr-1 CoverProductInfos__StyledText-sc-1un0kh1-13 eGhlHy jugtWW\"}},\n",
    "    'original_title':{'name': 'p', 'attrs': {\"class\": \"Text__SCTitle-sc-1aoldkr-1 CoverProductInfos__StyledText-sc-1un0kh1-13 eGhlHy kuMSs\"}}\n",
    "}\n"
   ]
  },
  {
   "cell_type": "code",
   "execution_count": null,
   "metadata": {},
   "outputs": [],
   "source": [
    "class RequestSensCritique:\n",
    "    def __init__(self):\n",
    "        self._base_urls = 'https://www.senscritique.com/'\n",
    "    \n",
    "    def create_soup_from_url(self, url_src):\n",
    "        page_content = requests.get(url_src).content\n",
    "        \n",
    "        return BeautifulSoup(page_content, \"html.parser\")\n",
    "\n",
    "    def find_text(self, element, search_criteria):\n",
    "        found_element = element.find(**search_criteria)\n",
    "        return found_element.text if found_element else None\n",
    "\n",
    "    def get_full_page(self, link):\n",
    "        full_url = self._base_urls + link\n",
    "        driver = webdriver.Chrome()\n",
    "\n",
    "        try:\n",
    "            driver.get(full_url)\n",
    "\n",
    "            for _ in range(8):\n",
    "                driver.execute_script(\"window.scrollTo(0, document.body.scrollHeight);\")\n",
    "                time.sleep(2)\n",
    "            \n",
    "            page_source = driver.page_source\n",
    "\n",
    "        finally:\n",
    "            driver.quit()\n",
    "\n",
    "        self.create_soup_from_url(page_source)\n",
    "        \n",
    "    def get_film_page_info(self, film_link, dict_name):\n",
    "        film_url = self._base_urls + link\n",
    "        film_page_soup = self.create_soup_from_url(film_url)\n",
    "\n",
    "        film_page_dict = {key: self.find_text(film, criteria) for key, criteria in dict_name.items()}\n",
    "\n",
    "        stats_elements = film_page_soup.select('p.Text__SCText-sc-1aoldkr-0.Stats__Text-sc-1u6v943-2.gATBvI')\n",
    "        if len(stats_elements) == 3:\n",
    "            film_page_dict['stars'] = stats_elements[0].text\n",
    "            film_page_dict['saves'] = stats_elements[1].text\n",
    "            film_page_dict['favorites'] = stats_elements[2].text\n",
    "        \n",
    "        critique_number_text = film_page_soup.select('.NavigationTab__WrapperTextStyled-sc-18dtd9d-7')[2].text\n",
    "        film_page_dict['critique_number'] = int(critique_number_text.split('(')[-1].split(')')[0])\n",
    "\n",
    "        return film_page_dict\n",
    "    \n",
    "    def get_main_page(self, link, main_dict, film_info_dict):\n",
    "        film_soup = self.get_full_page(link)\n",
    "\n",
    "        films = film_soup.find_all('div', class_=\"ProductListItem__Wrapper-sc-1jkxxpj-1 kusRkg\")\n",
    "\n",
    "        all_films_dict = {}\n",
    "        count = 0\n",
    "\n",
    "        for film in films:\n",
    "            if count <= 2:\n",
    "                title = self.text(film, {'name': 'a', 'attrs': {\"data-testid\": \"product-title\"}})\n",
    "\n",
    "                new_film_dict = {key: self.find_text(film, criteria) for key, criteria in main_dict.items()}\n",
    "\n",
    "                film_link = film.find('a', {\"data-testid\": \"product-title\"})['href']\n",
    "                new_film_dict.update(self.get_film_page_info(film_link, film_info_dict))\n",
    "                \n",
    "                all_films_dict[title] = new_film_dict\n",
    "                count += 1\n",
    "        \n",
    "        return all_films_dict\n"
   ]
  },
  {
   "cell_type": "code",
   "execution_count": null,
   "metadata": {},
   "outputs": [],
   "source": [
    "create_request = RequestSensCritique()\n",
    "\n",
    "top_111_link = 'films/tops/top111'\n",
    "create_request.get_main_page(top_111_link, search_dict_main_page,search_dict_film_page )"
   ]
  },
  {
   "cell_type": "code",
   "execution_count": null,
   "metadata": {},
   "outputs": [],
   "source": [
    "pip install webdriver_manager\n"
   ]
  },
  {
   "cell_type": "code",
   "execution_count": null,
   "metadata": {},
   "outputs": [],
   "source": [
    "from selenium import webdriver\n",
    "from webdriver_manager.chrome import ChromeDriverManager\n",
    "from selenium.webdriver.chrome.options import Options\n",
    "\n",
    "chrome_options = Options()\n",
    "driver = webdriver.Chrome(executable_path=ChromeDriverManager().install(), options=chrome_options)\n"
   ]
  }
 ],
 "metadata": {
  "kernelspec": {
   "display_name": "Python 3",
   "language": "python",
   "name": "python3"
  },
  "language_info": {
   "codemirror_mode": {
    "name": "ipython",
    "version": 3
   },
   "file_extension": ".py",
   "mimetype": "text/x-python",
   "name": "python",
   "nbconvert_exporter": "python",
   "pygments_lexer": "ipython3",
   "version": "3.11.6"
  },
  "orig_nbformat": 4
 },
 "nbformat": 4,
 "nbformat_minor": 2
}
