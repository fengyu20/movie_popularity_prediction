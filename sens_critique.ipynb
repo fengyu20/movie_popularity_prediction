{
 "cells": [
  {
   "cell_type": "code",
   "execution_count": 4,
   "metadata": {},
   "outputs": [
    {
     "name": "stdout",
     "output_type": "stream",
     "text": [
      "Requirement already satisfied: unidecode in /usr/local/lib/python3.11/site-packages (1.3.7)\n",
      "Requirement already satisfied: scikit-learn in /usr/local/lib/python3.11/site-packages (1.3.2)\n",
      "Requirement already satisfied: BeautifulSoup4 in /usr/local/lib/python3.11/site-packages (4.12.2)\n",
      "Requirement already satisfied: pandas in /usr/local/lib/python3.11/site-packages (2.0.0)\n",
      "Requirement already satisfied: requests in /usr/local/lib/python3.11/site-packages (2.28.2)\n",
      "Requirement already satisfied: lxml in /usr/local/lib/python3.11/site-packages (4.9.2)\n",
      "Requirement already satisfied: numpy<2.0,>=1.17.3 in /usr/local/lib/python3.11/site-packages (from scikit-learn) (1.24.2)\n",
      "Requirement already satisfied: scipy>=1.5.0 in /usr/local/lib/python3.11/site-packages (from scikit-learn) (1.11.3)\n",
      "Requirement already satisfied: joblib>=1.1.1 in /usr/local/lib/python3.11/site-packages (from scikit-learn) (1.3.2)\n",
      "Requirement already satisfied: threadpoolctl>=2.0.0 in /usr/local/lib/python3.11/site-packages (from scikit-learn) (3.2.0)\n",
      "Requirement already satisfied: soupsieve>1.2 in /usr/local/lib/python3.11/site-packages (from BeautifulSoup4) (2.4)\n",
      "Requirement already satisfied: python-dateutil>=2.8.2 in /usr/local/lib/python3.11/site-packages (from pandas) (2.8.2)\n",
      "Requirement already satisfied: pytz>=2020.1 in /usr/local/lib/python3.11/site-packages (from pandas) (2023.3)\n",
      "Requirement already satisfied: tzdata>=2022.1 in /usr/local/lib/python3.11/site-packages (from pandas) (2023.3)\n",
      "Requirement already satisfied: charset-normalizer<4,>=2 in /usr/local/lib/python3.11/site-packages (from requests) (3.1.0)\n",
      "Requirement already satisfied: idna<4,>=2.5 in /usr/local/lib/python3.11/site-packages (from requests) (3.4)\n",
      "Requirement already satisfied: urllib3<1.27,>=1.21.1 in /usr/local/lib/python3.11/site-packages (from requests) (1.26.15)\n",
      "Requirement already satisfied: certifi>=2017.4.17 in /usr/local/lib/python3.11/site-packages (from requests) (2022.12.7)\n",
      "Requirement already satisfied: six>=1.5 in /usr/local/lib/python3.11/site-packages (from python-dateutil>=2.8.2->pandas) (1.16.0)\n",
      "Note: you may need to restart the kernel to use updated packages.\n"
     ]
    }
   ],
   "source": [
    "pip install unidecode scikit-learn BeautifulSoup4 pandas requests lxml"
   ]
  },
  {
   "cell_type": "code",
   "execution_count": 5,
   "metadata": {},
   "outputs": [],
   "source": [
    "from sklearn.preprocessing import StandardScaler\n",
    "from requests.auth import HTTPBasicAuth\n",
    "from sklearn.decomposition import PCA\n",
    "from sklearn.pipeline import Pipeline\n",
    "from sklearn.cluster import KMeans\n",
    "import matplotlib.pyplot as plt\n",
    "from bs4 import BeautifulSoup\n",
    "from io import StringIO\n",
    "import pandas as pd\n",
    "import numpy as np\n",
    "import unidecode\n",
    "import requests\n",
    "import locale\n",
    "import pickle\n",
    "import re \n",
    "import lxml"
   ]
  },
  {
   "cell_type": "code",
   "execution_count": 6,
   "metadata": {},
   "outputs": [],
   "source": [
    "url_sc = 'https://www.senscritique.com/films/tops/top111'\n",
    "page_sc = requests.get(url_sc)\n",
    "soup = BeautifulSoup(page_sc.content, \"html.parser\")"
   ]
  },
  {
   "cell_type": "code",
   "execution_count": 11,
   "metadata": {},
   "outputs": [
    {
     "name": "stdout",
     "output_type": "stream",
     "text": [
      "{'Douze Hommes en colère (1957)': {'original_title': None, 'rating': '8.7', 'director': 'Sidney Lumet', 'duration': '1 h 36 min. ', 'genres': 'Policier, Drame', 'ranking': None}, 'Harakiri (1962)': {'original_title': None, 'rating': '8.6', 'director': 'Masaki Kobayashi', 'duration': '2 h 13 min. ', 'genres': 'Drame', 'ranking': None}, 'Blade Runner : The Final Cut (2007)': {'original_title': None, 'rating': '8.6', 'director': 'Ridley Scott', 'duration': '1 h 57 min. ', 'genres': 'Science-fiction', 'ranking': None}, 'Le Bon, la Brute et le Truand (1966)': {'original_title': None, 'rating': '8.5', 'director': 'Sergio Leone', 'duration': '2 h 59 min. ', 'genres': 'Western, Aventure', 'ranking': None}, 'Barberousse (1965)': {'original_title': None, 'rating': '8.5', 'director': 'Akira Kurosawa', 'duration': '3 h 05 min. ', 'genres': 'Drame', 'ranking': None}, 'Les Sept Samouraïs (1954)': {'original_title': None, 'rating': '8.5', 'director': 'Akira Kurosawa', 'duration': '3 h 27 min. ', 'genres': 'Arts martiaux, Aventure, Drame', 'ranking': None}, \"Il était une fois dans l'Ouest (1968)\": {'original_title': None, 'rating': '8.5', 'director': 'Sergio Leone', 'duration': '2 h 55 min. ', 'genres': 'Western', 'ranking': None}, 'Le Parrain (1972)': {'original_title': None, 'rating': '8.5', 'director': 'Francis Ford Coppola', 'duration': '2 h 55 min. ', 'genres': 'Policier, Drame', 'ranking': None}, 'Il était une fois en Amérique (1984)': {'original_title': None, 'rating': '8.5', 'director': 'Sergio Leone', 'duration': '3 h 49 min. ', 'genres': 'Drame, Gangster', 'ranking': None}, 'Le Trou (1960)': {'original_title': None, 'rating': '8.4', 'director': 'Jacques Becker', 'duration': '2 h 12 min. ', 'genres': 'Policier, Drame, Thriller', 'ranking': None}, 'Point limite (1964)': {'original_title': None, 'rating': '8.4', 'director': 'Sidney Lumet', 'duration': '1 h 52 min. ', 'genres': 'Drame, Thriller', 'ranking': None}, 'Le Voyage de Chihiro (2001)': {'original_title': None, 'rating': '8.4', 'director': 'Hayao Miyazaki', 'duration': '2 h 05 min. ', 'genres': 'Animation, Aventure, Fantasy', 'ranking': None}, 'Princesse Mononoké (1997)': {'original_title': None, 'rating': '8.4', 'director': 'Hayao Miyazaki', 'duration': '2 h 14 min. ', 'genres': 'Animation, Aventure, Fantasy', 'ranking': None}, \"Entre le ciel et l'enfer (1963)\": {'original_title': None, 'rating': '8.4', 'director': 'Akira Kurosawa', 'duration': '2 h 23 min. ', 'genres': 'Drame, Thriller', 'ranking': None}, \"L'Aurore (1927)\": {'original_title': None, 'rating': '8.3', 'director': 'Friedrich Wilhelm Murnau', 'duration': '1 h 34 min. ', 'genres': 'Drame, Romance, Muet', 'ranking': None}, 'Dersou Ouzala (1975)': {'original_title': None, 'rating': '8.3', 'director': 'Akira Kurosawa', 'duration': '2 h 22 min. ', 'genres': 'Aventure, Biopic, Drame', 'ranking': None}, \"Vol au-dessus d'un nid de coucou (1975)\": {'original_title': None, 'rating': '8.3', 'director': 'Miloš Forman', 'duration': '2 h 13 min. ', 'genres': 'Drame, Comédie dramatique', 'ranking': None}, 'Sherlock Junior (1924)': {'original_title': None, 'rating': '8.3', 'director': 'Buster Keaton', 'duration': '45 min. ', 'genres': 'Muet, Comédie, Action', 'ranking': None}, 'Pour Sama (2019)': {'original_title': None, 'rating': '8.3', 'director': 'Waad Al-Kateab', 'duration': '1 h 40 min. ', 'genres': 'Guerre', 'ranking': None}, 'Parasite (2019)': {'original_title': None, 'rating': '8.3', 'director': 'Bong Joon-Ho', 'duration': '2 h 12 min. ', 'genres': 'Drame, Thriller, Comédie', 'ranking': None}, 'Le Parrain - 2e Partie (1974)': {'original_title': None, 'rating': '8.3', 'director': 'Francis Ford Coppola', 'duration': '3 h 20 min. ', 'genres': 'Gangster, Drame', 'ranking': None}, 'Apocalypse Now (1979)': {'original_title': None, 'rating': '8.3', 'director': 'Francis Ford Coppola', 'duration': '2 h 27 min. ', 'genres': 'Drame, Guerre', 'ranking': None}, 'Pulp Fiction (1994)': {'original_title': None, 'rating': '8.3', 'director': 'Quentin Tarantino', 'duration': '2 h 34 min. ', 'genres': 'Gangster, Comédie', 'ranking': None}, 'Le Dictateur (1940)': {'original_title': None, 'rating': '8.3', 'director': 'Charlie Chaplin', 'duration': '2 h 05 min. ', 'genres': 'Comédie dramatique, Guerre', 'ranking': None}, \"Voyage au bout de l'enfer (1978)\": {'original_title': None, 'rating': '8.3', 'director': 'Michael Cimino', 'duration': '3 h 03 min. ', 'genres': 'Drame, Guerre', 'ranking': None}, 'Psychose (1960)': {'original_title': None, 'rating': '8.3', 'director': 'Alfred Hitchcock', 'duration': '1 h 49 min. ', 'genres': 'Thriller', 'ranking': None}, 'Soy Cuba (1964)': {'original_title': None, 'rating': '8.2', 'director': 'Mikhail Kalatozov', 'duration': '2 h 21 min. ', 'genres': 'Drame', 'ranking': None}, 'La Femme des sables (1964)': {'original_title': None, 'rating': '8.2', 'director': 'Hiroshi Teshigahara', 'duration': '2 h 27 min. ', 'genres': 'Drame', 'ranking': None}, 'Les Affranchis (1990)': {'original_title': None, 'rating': '8.2', 'director': 'Martin Scorsese', 'duration': '2 h 26 min. ', 'genres': 'Gangster, Biopic', 'ranking': None}, 'Boulevard du crépuscule (1950)': {'original_title': None, 'rating': '8.2', 'director': 'Billy Wilder', 'duration': '1 h 50 min. ', 'genres': 'Film noir', 'ranking': None}, 'Requiem pour un massacre (1985)': {'original_title': None, 'rating': '8.2', 'director': 'Elem Klimov', 'duration': '2 h 22 min. ', 'genres': 'Drame, Guerre', 'ranking': None}, 'Sátántangó – Le Tango de Satan (1994)': {'original_title': None, 'rating': '8.2', 'director': 'Béla Tarr', 'duration': '7 h 30 min. ', 'genres': 'Drame', 'ranking': None}, 'Quand passent les cigognes (1957)': {'original_title': None, 'rating': '8.2', 'director': 'Mikhail Kalatozov', 'duration': '1 h 35 min. ', 'genres': 'Drame, Romance, Guerre', 'ranking': None}, 'Le Tombeau des lucioles (1988)': {'original_title': None, 'rating': '8.2', 'director': 'Isao Takahata', 'duration': '1 h 29 min. ', 'genres': 'Animation, Drame, Guerre', 'ranking': None}, \"Midsommar : The Director's Cut (2019)\": {'original_title': None, 'rating': '8.2', 'director': 'Ari Aster', 'duration': '2 h 51 min. ', 'genres': 'Épouvante-Horreur, Drame, Thriller', 'ranking': None}, \"La Condition de l'homme 1 - Il n'y a pas de plus grand amour (1959)\": {'original_title': None, 'rating': '8.2', 'director': 'Masaki Kobayashi', 'duration': '3 h 28 min. ', 'genres': 'Drame, Historique, Guerre', 'ranking': None}, 'Les Enfants du paradis (1945)': {'original_title': None, 'rating': '8.2', 'director': 'Marcel Carné', 'duration': '3 h 10 min. ', 'genres': 'Drame, Romance', 'ranking': None}, 'Les Temps modernes (1936)': {'original_title': None, 'rating': '8.2', 'director': 'Charlie Chaplin', 'duration': '1 h 27 min. ', 'genres': 'Comédie dramatique, Muet', 'ranking': None}, 'La Vie est belle (1946)': {'original_title': None, 'rating': '8.2', 'director': 'Frank Capra', 'duration': '2 h 10 min. ', 'genres': 'Drame, Fantastique', 'ranking': None}, 'Les Lumières de la ville (1931)': {'original_title': None, 'rating': '8.2', 'director': 'Charlie Chaplin', 'duration': '1 h 27 min. ', 'genres': 'Comédie dramatique, Romance, Muet', 'ranking': None}, 'Rendez-vous (1940)': {'original_title': None, 'rating': '8.2', 'director': 'Ernst Lubitsch', 'duration': '1 h 39 min. ', 'genres': 'Comédie romantique', 'ranking': None}, 'Rébellion (1967)': {'original_title': None, 'rating': '8.2', 'director': 'Masaki Kobayashi', 'duration': '2 h 08 min. ', 'genres': 'Drame, Action', 'ranking': None}, 'Le Chagrin et la Pitié (1969)': {'original_title': None, 'rating': '8.2', 'director': 'Marcel Ophüls', 'duration': '4 h 11 min. ', 'genres': 'Historique, Guerre', 'ranking': None}, 'Jeux dangereux (1942)': {'original_title': None, 'rating': '8.2', 'director': 'Ernst Lubitsch', 'duration': '1 h 39 min. ', 'genres': 'Comédie, Guerre', 'ranking': None}, 'Ève... (1950)': {'original_title': None, 'rating': '8.2', 'director': 'Joseph L. Mankiewicz', 'duration': '2 h 18 min. ', 'genres': 'Drame', 'ranking': None}, 'Les Sentiers de la gloire (1957)': {'original_title': None, 'rating': '8.2', 'director': 'Stanley Kubrick', 'duration': '1 h 28 min. ', 'genres': 'Drame, Guerre', 'ranking': None}, 'Andreï Roublev (1966)': {'original_title': None, 'rating': '8.2', 'director': 'Andreï Tarkovski', 'duration': '3 h 03 min. ', 'genres': 'Drame, Biopic, Historique', 'ranking': None}, 'Fenêtre sur cour (1954)': {'original_title': None, 'rating': '8.1', 'director': 'Alfred Hitchcock', 'duration': '1 h 52 min. ', 'genres': 'Thriller', 'ranking': None}, 'M le maudit (1931)': {'original_title': None, 'rating': '8.1', 'director': 'Fritz Lang', 'duration': '1 h 57 min. ', 'genres': 'Policier, Drame, Thriller', 'ranking': None}, 'Metropolis (1927)': {'original_title': None, 'rating': '8.1', 'director': 'Fritz Lang', 'duration': '2 h 25 min. ', 'genres': 'Muet, Drame, Science-fiction', 'ranking': None}}\n"
     ]
    }
   ],
   "source": [
    "def find_text(element, search_criteria):\n",
    "    found_element = element.find(**search_criteria)\n",
    "    return found_element.text if found_element else None\n",
    "\n",
    "# Define a dictionary to map the keys to the search criteria\n",
    "search_criteria_dict = {\n",
    "    'original_title': {'name': 'p', 'attrs': {\"class\": \"ProductListItem__OriginalTitle-sc-1jkxxpj-4 gATBvH\"}},\n",
    "    'rating': {'name': 'div', 'attrs': {\"data-testid\": \"Rating\"}},\n",
    "    'director': {'name': 'a', 'attrs': {\"data-testid\": \"link\"}},\n",
    "    'duration': {'name': 'span', 'attrs': {\"data-testid\": \"duration\"}},\n",
    "    'genres': {'name': 'span', 'attrs': {\"data-testid\": \"genres\"}},\n",
    "    'ranking': {'name': 'span', 'attrs': {\"class\": \"ProductTitle__PositionWrapper-sc-mtf7b1-0 kcGHBE\"}}\n",
    "}\n",
    "\n",
    "all_films_dict = {}\n",
    "films = soup.find_all('div', class_=\"ProductListItem__Wrapper-sc-1jkxxpj-1 kusRkg\")\n",
    "\n",
    "for film in films:\n",
    "    title = find_text(film, {'name': 'a', 'attrs': {\"data-testid\": \"product-title\"}})\n",
    "    new_film_dict = {key: find_text(film, criteria) for key, criteria in search_criteria_dict.items()}\n",
    "\n",
    "    link = film.find('a', {\"data-testid\": \"product-title\"})['href']\n",
    "    \n",
    "    all_films_dict[title] = new_film_dict\n",
    "\n",
    "print(all_films_dict)\n"
   ]
  },
  {
   "cell_type": "code",
   "execution_count": 32,
   "metadata": {},
   "outputs": [
    {
     "name": "stdout",
     "output_type": "stream",
     "text": [
      "51.7K\n",
      "16.3K\n",
      "6.8K\n"
     ]
    }
   ],
   "source": [
    "film_single = soup.find('div', class_=\"ProductListItem__Wrapper-sc-1jkxxpj-1 kusRkg\")\n",
    "\n",
    "# Corrected the syntax for the find method\n",
    "link = film_single.find('a', {\"data-testid\": \"product-title\"})['href']\n",
    "\n",
    "\n",
    "def film_info(link):\n",
    "\n",
    "    base_url = 'https://www.senscritique.com'\n",
    "    film_url = base_url + link\n",
    "\n",
    "    film_page = requests.get(film_url)\n",
    "    film_page_soup = BeautifulSoup(film_page.content, \"html.parser\")\n",
    "\n",
    "    extrainfo_dict = {}\n",
    "\n",
    "    # Use find_all to get all matching elements\n",
    "    film_year = \n",
    "    stats_elements = film_page_soup.select('p.Text__SCText-sc-1aoldkr-0.Stats__Text-sc-1u6v943-2.gATBvI')\n",
    "    \n",
    "    # Iterate through the list of elements and print the text content of each\n",
    "    for element in stats_elements:\n",
    "        print(element.text)\n",
    "\n",
    "    number_of_critiques =   \n",
    "    a_tag = soup.find('a', href='/film/douze_hommes_en_colere/370894/critiques')\n",
    "\n",
    "    # Extract the text from the anchor tag\n",
    "    text = a_tag.text  # \"Critiques : avis d'internautes (592)\"\n",
    "\n",
    "    # Use string splitting and stripping to extract the number\n",
    "    votes_text = text.split('(')[-1].split(')')[0]  # \"592\"\n",
    "    votes = int(votes_text)  # 592\n",
    "\n",
    "film_info(link)\n"
   ]
  }
 ],
 "metadata": {
  "kernelspec": {
   "display_name": "Python 3",
   "language": "python",
   "name": "python3"
  },
  "language_info": {
   "codemirror_mode": {
    "name": "ipython",
    "version": 3
   },
   "file_extension": ".py",
   "mimetype": "text/x-python",
   "name": "python",
   "nbconvert_exporter": "python",
   "pygments_lexer": "ipython3",
   "version": "3.11.6"
  },
  "orig_nbformat": 4
 },
 "nbformat": 4,
 "nbformat_minor": 2
}
